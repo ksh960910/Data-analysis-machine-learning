{
 "cells": [
  {
   "cell_type": "markdown",
   "id": "cutting-limitation",
   "metadata": {},
   "source": [
    "# Iris 품종 예측"
   ]
  },
  {
   "cell_type": "code",
   "execution_count": 26,
   "id": "respected-carnival",
   "metadata": {},
   "outputs": [],
   "source": [
    "from sklearn.datasets import load_iris\n",
    "import pandas as pd\n",
    "import numpy as np\n",
    "from sklearn.metrics import accuracy_score, confusion_matrix, plot_confusion_matrix\n",
    "from sklearn.model_selection import train_test_split\n",
    "from sklearn.neighbors import KNeighborsClassifier\n",
    "from sklearn.svm import SVC\n",
    "from sklearn.tree import DecisionTreeClassifier\n",
    "from sklearn.ensemble import RandomForestClassifier\n",
    "import matplotlib.pyplot as plt"
   ]
  },
  {
   "cell_type": "markdown",
   "id": "certified-republic",
   "metadata": {},
   "source": [
    "## 보기 편하게 데이터프레임으로 변환하여 만들어줌\n",
    "\n",
    "* iris.target - 라벨링 된 아이리스 품종 값\n",
    "\n",
    "* iris.target_names - 아이리스 품종 이름 값\n",
    "\n",
    "* iris.feature_names - 데이터셋의 피처 이름 값"
   ]
  },
  {
   "cell_type": "code",
   "execution_count": 25,
   "id": "suspended-photographer",
   "metadata": {},
   "outputs": [
    {
     "data": {
      "text/html": [
       "<div>\n",
       "<style scoped>\n",
       "    .dataframe tbody tr th:only-of-type {\n",
       "        vertical-align: middle;\n",
       "    }\n",
       "\n",
       "    .dataframe tbody tr th {\n",
       "        vertical-align: top;\n",
       "    }\n",
       "\n",
       "    .dataframe thead th {\n",
       "        text-align: right;\n",
       "    }\n",
       "</style>\n",
       "<table border=\"1\" class=\"dataframe\">\n",
       "  <thead>\n",
       "    <tr style=\"text-align: right;\">\n",
       "      <th></th>\n",
       "      <th>sepal length (cm)</th>\n",
       "      <th>sepal width (cm)</th>\n",
       "      <th>petal length (cm)</th>\n",
       "      <th>petal width (cm)</th>\n",
       "      <th>target</th>\n",
       "    </tr>\n",
       "  </thead>\n",
       "  <tbody>\n",
       "    <tr>\n",
       "      <th>0</th>\n",
       "      <td>5.1</td>\n",
       "      <td>3.5</td>\n",
       "      <td>1.4</td>\n",
       "      <td>0.2</td>\n",
       "      <td>0</td>\n",
       "    </tr>\n",
       "    <tr>\n",
       "      <th>1</th>\n",
       "      <td>4.9</td>\n",
       "      <td>3.0</td>\n",
       "      <td>1.4</td>\n",
       "      <td>0.2</td>\n",
       "      <td>0</td>\n",
       "    </tr>\n",
       "    <tr>\n",
       "      <th>2</th>\n",
       "      <td>4.7</td>\n",
       "      <td>3.2</td>\n",
       "      <td>1.3</td>\n",
       "      <td>0.2</td>\n",
       "      <td>0</td>\n",
       "    </tr>\n",
       "    <tr>\n",
       "      <th>3</th>\n",
       "      <td>4.6</td>\n",
       "      <td>3.1</td>\n",
       "      <td>1.5</td>\n",
       "      <td>0.2</td>\n",
       "      <td>0</td>\n",
       "    </tr>\n",
       "    <tr>\n",
       "      <th>4</th>\n",
       "      <td>5.0</td>\n",
       "      <td>3.6</td>\n",
       "      <td>1.4</td>\n",
       "      <td>0.2</td>\n",
       "      <td>0</td>\n",
       "    </tr>\n",
       "  </tbody>\n",
       "</table>\n",
       "</div>"
      ],
      "text/plain": [
       "   sepal length (cm)  sepal width (cm)  petal length (cm)  petal width (cm)  \\\n",
       "0                5.1               3.5                1.4               0.2   \n",
       "1                4.9               3.0                1.4               0.2   \n",
       "2                4.7               3.2                1.3               0.2   \n",
       "3                4.6               3.1                1.5               0.2   \n",
       "4                5.0               3.6                1.4               0.2   \n",
       "\n",
       "   target  \n",
       "0       0  \n",
       "1       0  \n",
       "2       0  \n",
       "3       0  \n",
       "4       0  "
      ]
     },
     "execution_count": 25,
     "metadata": {},
     "output_type": "execute_result"
    }
   ],
   "source": [
    "iris = load_iris()\n",
    "iris_target = iris.target\n",
    "iris_data = iris.data\n",
    "iris_feature_names = iris.feature_names\n",
    "\n",
    "iris = pd.DataFrame(iris_data, columns=iris_feature_names)\n",
    "iris['target'] = iris_target\n",
    "iris.head()"
   ]
  },
  {
   "cell_type": "markdown",
   "id": "magnetic-uncertainty",
   "metadata": {},
   "source": [
    "## 결측치,이상치가 있는지 확인하기 위해 .info 사용"
   ]
  },
  {
   "cell_type": "code",
   "execution_count": 9,
   "id": "controversial-bookmark",
   "metadata": {},
   "outputs": [
    {
     "name": "stdout",
     "output_type": "stream",
     "text": [
      "<class 'pandas.core.frame.DataFrame'>\n",
      "RangeIndex: 150 entries, 0 to 149\n",
      "Data columns (total 5 columns):\n",
      "sepal length (cm)    150 non-null float64\n",
      "sepal width (cm)     150 non-null float64\n",
      "petal length (cm)    150 non-null float64\n",
      "petal width (cm)     150 non-null float64\n",
      "target               150 non-null int32\n",
      "dtypes: float64(4), int32(1)\n",
      "memory usage: 5.4 KB\n"
     ]
    }
   ],
   "source": [
    "iris.info()"
   ]
  },
  {
   "cell_type": "markdown",
   "id": "intense-party",
   "metadata": {},
   "source": [
    "## Train, Test 셋 분리\n",
    "\n",
    " input X 값과 결과 y 값을 나눠줌"
   ]
  },
  {
   "cell_type": "code",
   "execution_count": 20,
   "id": "freelance-parliament",
   "metadata": {},
   "outputs": [],
   "source": [
    "X_train_df = iris.drop(columns='target')\n",
    "y_train_df = iris['target']\n",
    "\n",
    "X_train, X_test, y_train, y_test = train_test_split(X_train_df, y_train_df, test_size=0.2, random_state = 11)"
   ]
  },
  {
   "cell_type": "markdown",
   "id": "negative-behavior",
   "metadata": {},
   "source": [
    "## 다양한 모델을 이용하여 정확도를 확인\n",
    "* KNN\n",
    "* Decision Tree\n",
    "* RandomForest\n",
    "* SVM"
   ]
  },
  {
   "cell_type": "code",
   "execution_count": 23,
   "id": "dedicated-peace",
   "metadata": {},
   "outputs": [
    {
     "name": "stdout",
     "output_type": "stream",
     "text": [
      "KNeighborsClassifier() 모델 정확도 :  0.9667\n",
      "DecisionTreeClassifier() 모델 정확도 :  0.9333\n",
      "RandomForestClassifier() 모델 정확도 :  0.9333\n",
      "SVC() 모델 정확도 :  0.9333\n"
     ]
    }
   ],
   "source": [
    "models = list()\n",
    "model_knn = KNeighborsClassifier()\n",
    "model_df = DecisionTreeClassifier()\n",
    "model_rf = RandomForestClassifier()\n",
    "model_svm = SVC(kernel = 'rbf')\n",
    "models.append(model_knn)\n",
    "models.append(model_df)\n",
    "models.append(model_rf)\n",
    "models.append(model_svm)\n",
    "\n",
    "for model in models:\n",
    "    model.fit(X_train, y_train)\n",
    "    model_pred = model.predict(X_test)\n",
    "    accuracy = accuracy_score(y_test, model_pred)\n",
    "    print(f'{model} 모델 정확도 : {accuracy : .4f}')"
   ]
  },
  {
   "cell_type": "markdown",
   "id": "adequate-stable",
   "metadata": {},
   "source": [
    "## 모델 별 결과 시각화"
   ]
  },
  {
   "cell_type": "code",
   "execution_count": 38,
   "id": "finished-manual",
   "metadata": {},
   "outputs": [
    {
     "data": {
      "image/png": "[encoded data removed]",
      "text/plain": [
       "<Figure size 432x288 with 2 Axes>"
      ]
     },
     "metadata": {
      "needs_background": "light"
     },
     "output_type": "display_data"
    },
    {
     "data": {
      "image/png": "[encoded data removed]",
      "text/plain": [
       "<Figure size 432x288 with 2 Axes>"
      ]
     },
     "metadata": {
      "needs_background": "light"
     },
     "output_type": "display_data"
    },
    {
     "data": {
      "image/png": "[encoded data removed]",
      "text/plain": [
       "<Figure size 432x288 with 2 Axes>"
      ]
     },
     "metadata": {
      "needs_background": "light"
     },
     "output_type": "display_data"
    },
    {
     "data": {
      "image/png": "[encoded data removed]",
      "text/plain": [
       "<Figure size 432x288 with 2 Axes>"
      ]
     },
     "metadata": {
      "needs_background": "light"
     },
     "output_type": "display_data"
    }
   ],
   "source": [
    "for model in models:\n",
    "    disp = plot_confusion_matrix(model,\n",
    "                                X_test, y_test,\n",
    "                                display_labels=iris_feature_names,\n",
    "                                cmap=plt.cm.Reds)\n",
    "    \n",
    "    disp.ax_.set_title(str(model)[:-2] + ' Counsion Matrix')"
   ]
  },
  {
   "cell_type": "code",
   "execution_count": null,
   "id": "nervous-baseball",
   "metadata": {},
   "outputs": [],
   "source": []
  },
  {
   "cell_type": "code",
   "execution_count": null,
   "id": "angry-payroll",
   "metadata": {},
   "outputs": [],
   "source": []
  },
  {
   "cell_type": "code",
   "execution_count": null,
   "id": "ruled-authorization",
   "metadata": {},
   "outputs": [],
   "source": []
  },
  {
   "cell_type": "code",
   "execution_count": null,
   "id": "higher-bible",
   "metadata": {},
   "outputs": [],
   "source": []
  },
  {
   "cell_type": "code",
   "execution_count": null,
   "id": "minus-stanley",
   "metadata": {},
   "outputs": [],
   "source": []
  },
  {
   "cell_type": "code",
   "execution_count": null,
   "id": "twenty-clock",
   "metadata": {},
   "outputs": [],
   "source": []
  },
  {
   "cell_type": "code",
   "execution_count": null,
   "id": "representative-nothing",
   "metadata": {},
   "outputs": [],
   "source": []
  },
  {
   "cell_type": "code",
   "execution_count": null,
   "id": "honey-possibility",
   "metadata": {},
   "outputs": [],
   "source": []
  },
  {
   "cell_type": "code",
   "execution_count": null,
   "id": "aggregate-anime",
   "metadata": {},
   "outputs": [],
   "source": []
  }
 ],
 "metadata": {
  "kernelspec": {
   "display_name": "Python 3",
   "language": "python",
   "name": "python3"
  },
  "language_info": {
   "codemirror_mode": {
    "name": "ipython",
    "version": 3
   },
   "file_extension": ".py",
   "mimetype": "text/x-python",
   "name": "python",
   "nbconvert_exporter": "python",
   "pygments_lexer": "ipython3",
   "version": "3.8.3"
  },
  "toc": {
   "base_numbering": 1,
   "nav_menu": {},
   "number_sections": true,
   "sideBar": true,
   "skip_h1_title": false,
   "title_cell": "Table of Contents",
   "title_sidebar": "Contents",
   "toc_cell": false,
   "toc_position": {},
   "toc_section_display": true,
   "toc_window_display": false
  }
 },
 "nbformat": 4,
 "nbformat_minor": 5
}
